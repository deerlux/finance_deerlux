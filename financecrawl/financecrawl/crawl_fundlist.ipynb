{
 "cells": [
  {
   "cell_type": "markdown",
   "metadata": {},
   "source": [
    "此程序是从同花顺基金网站上抓取基金的基本数据并入库，包括基金类型、基金公司、名称、代码等。"
   ]
  },
  {
   "cell_type": "code",
   "execution_count": 19,
   "metadata": {
    "collapsed": false,
    "scrolled": false
   },
   "outputs": [],
   "source": [
    "import requests\n",
    "import lxml.etree as ET\n",
    "import json\n",
    "\n",
    "response = requests.get('http://fund.ijijin.cn/data/Net/info/all_rate_desc_0_0_1_9999_0_0_0_jsonp_g.html')\n",
    "temp = response.content.strip('g()')\n",
    "data = json.loads(temp)"
   ]
  },
  {
   "cell_type": "markdown",
   "metadata": {},
   "source": [
    "同花顺网站上的数据是通过上述网址得到一个基金列表，是g(json_str)的格式。其中包含的内容比较多，这里只取它的有用的几项。"
   ]
  },
  {
   "cell_type": "code",
   "execution_count": 9,
   "metadata": {
    "collapsed": false
   },
   "outputs": [],
   "source": [
    "from sqlalchemy import create_engine\n",
    "from sqlalchemy.orm import sessionmaker\n",
    "\n",
    "engine = create_engine('postgresql://localhost/finance_db')\n",
    "Session = sessionmaker()\n",
    "session = Session(bind=engine)\n",
    "\n",
    "from dataModels import *"
   ]
  },
  {
   "cell_type": "code",
   "execution_count": 17,
   "metadata": {
    "collapsed": false
   },
   "outputs": [],
   "source": [
    "def safe_get_company(company_name):\n",
    "    company = session.query(FundCompany).filter(FundCompany.company_name==company_name).scalar()\n",
    "    if company:\n",
    "        return company\n",
    "    db_com = FundCompany(company_name=company_name)\n",
    "    session.add(db_com)\n",
    "    session.commit()\n",
    "    return db_com\n",
    "\n",
    "def safe_get_type(type_name):\n",
    "    fund_type = session.query(FundType).filter(FundType.type_name==type_name).scalar()\n",
    "    if fund_type:\n",
    "        return fund_type\n",
    "    db_type = FundType(type_name=type_name)\n",
    "    session.add(db_type)\n",
    "    session.commit()\n",
    "    return db_type"
   ]
  },
  {
   "cell_type": "code",
   "execution_count": 18,
   "metadata": {
    "collapsed": false
   },
   "outputs": [],
   "source": [
    "raw['f960022']\n",
    "for code, data in raw.iteritems():\n",
    "    fund_code = code.strip('f')\n",
    "    fund_name = data['name']\n",
    "    fund_type_name = data['typename']\n",
    "    fund_company_name = data['orgname']\n",
    "    fund_type = safe_get_type(fund_type_name)\n",
    "    fund_company = safe_get_company(fund_company_name)\n",
    "    \n",
    "    fund = Fund(fund_code=fund_code,fund_name=fund_name,fund_company=fund_company,fund_type=fund_type)\n",
    "    session.add(fund)\n",
    "    session.commit()"
   ]
  }
 ],
 "metadata": {
  "kernelspec": {
   "display_name": "Python 2",
   "language": "python2",
   "name": "python2"
  },
  "language_info": {
   "codemirror_mode": {
    "name": "ipython",
    "version": 2
   },
   "file_extension": ".py",
   "mimetype": "text/x-python",
   "name": "python",
   "nbconvert_exporter": "python",
   "pygments_lexer": "ipython2",
   "version": "2.7.11"
  }
 },
 "nbformat": 4,
 "nbformat_minor": 0
}
